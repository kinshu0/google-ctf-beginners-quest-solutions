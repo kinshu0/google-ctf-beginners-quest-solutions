{
 "cells": [
  {
   "cell_type": "code",
   "execution_count": 51,
   "metadata": {},
   "outputs": [
    {
     "name": "stdout",
     "output_type": "stream",
     "text": [
      "<class 'numpy.ndarray'>\n",
      "(1000, 1000, 4)\n",
      "<class 'PIL.Image.Image'>\n",
      "RGBA\n",
      "(1000, 1000)\n"
     ]
    }
   ],
   "source": [
    "from PIL import ImageFile\n",
    "ImageFile.LOAD_TRUNCATED_IMAGES = True\n",
    "from matplotlib import pyplot as plt\n",
    "\n",
    "from PIL import Image\n",
    "from numpy import asarray\n",
    "import numpy as np\n",
    "# load the image\n",
    "image = Image.open('hideandseek.png').convert('RGBA')\n",
    "dog = Image.open('dog.png').convert('RGBA')\n",
    "# convert image to numpy array\n",
    "data = asarray(image)\n",
    "dog_data = asarray(dog)\n",
    "print(type(data))\n",
    "# summarize shape\n",
    "print(data.shape)\n",
    "\n",
    "# create Pillow image\n",
    "image2 = Image.fromarray(data)\n",
    "print(type(image2))\n",
    "\n",
    "# summarize image details\n",
    "print(image2.mode)\n",
    "print(image2.size)\n"
   ]
  },
  {
   "cell_type": "code",
   "execution_count": 66,
   "metadata": {},
   "outputs": [
    {
     "data": {
      "text/plain": [
       "1000000"
      ]
     },
     "execution_count": 66,
     "metadata": {},
     "output_type": "execute_result"
    }
   ],
   "source": [
    "sum((data[:,:,3] == 255).flatten())"
   ]
  },
  {
   "cell_type": "code",
   "execution_count": 40,
   "metadata": {},
   "outputs": [
    {
     "name": "stdout",
     "output_type": "stream",
     "text": [
      "[[[255 255 255 255]\n",
      "  [255 255 255 255]\n",
      "  [255 255 255 255]\n",
      "  ...\n",
      "  [239 239 238 255]\n",
      "  [239 239 238 255]\n",
      "  [239 239 238 255]]\n",
      "\n",
      " [[255 255 255 255]\n",
      "  [255 255 255 255]\n",
      "  [255 255 255 255]\n",
      "  ...\n",
      "  [239 239 238 255]\n",
      "  [239 239 238 255]\n",
      "  [239 239 238 255]]\n",
      "\n",
      " [[255 255 255 255]\n",
      "  [255 255 255 255]\n",
      "  [255 255 255 255]\n",
      "  ...\n",
      "  [239 239 238 255]\n",
      "  [239 239 238 255]\n",
      "  [239 239 238 255]]\n",
      "\n",
      " ...\n",
      "\n",
      " [[255 255 255 255]\n",
      "  [255 255 255 255]\n",
      "  [255 255 255 255]\n",
      "  ...\n",
      "  [239 239 238 255]\n",
      "  [239 239 238 255]\n",
      "  [239 239 238 255]]\n",
      "\n",
      " [[255 255 255 255]\n",
      "  [255 255 255 255]\n",
      "  [255 255 255 255]\n",
      "  ...\n",
      "  [239 239 238 255]\n",
      "  [239 239 238 255]\n",
      "  [239 239 238 255]]\n",
      "\n",
      " [[255 255 255 255]\n",
      "  [255 255 255 255]\n",
      "  [255 255 255 255]\n",
      "  ...\n",
      "  [239 239 238 255]\n",
      "  [239 239 238 255]\n",
      "  [239 239 238 255]]]\n"
     ]
    }
   ],
   "source": [
    "print(dog_data[len(dog_data)//4:])"
   ]
  },
  {
   "cell_type": "code",
   "execution_count": null,
   "metadata": {},
   "outputs": [],
   "source": []
  }
 ],
 "metadata": {
  "kernelspec": {
   "display_name": "Python 3 (ipykernel)",
   "language": "python",
   "name": "python3"
  },
  "language_info": {
   "codemirror_mode": {
    "name": "ipython",
    "version": 3
   },
   "file_extension": ".py",
   "mimetype": "text/x-python",
   "name": "python",
   "nbconvert_exporter": "python",
   "pygments_lexer": "ipython3",
   "version": "3.10.5"
  }
 },
 "nbformat": 4,
 "nbformat_minor": 2
}
