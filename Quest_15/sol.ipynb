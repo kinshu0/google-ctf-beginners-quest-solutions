{
 "cells": [
  {
   "cell_type": "code",
   "execution_count": 289,
   "metadata": {},
   "outputs": [],
   "source": [
    "def rol_left(x, n):\n",
    "    return (x << n) & (2**64 - 1) | (x >> (64 - n))"
   ]
  },
  {
   "cell_type": "code",
   "execution_count": 290,
   "metadata": {},
   "outputs": [
    {
     "name": "stdout",
     "output_type": "stream",
     "text": [
      "1000000000000000000000000000000000000000000000000000000000000000\n",
      "0000000000000000000000000000000000000000000000000000000000000010\n",
      "1111111111111111111111111111111111111111111111111111111111111111\n"
     ]
    }
   ],
   "source": [
    "test_rol_left_val = 2**63\n",
    "initial = format(test_rol_left_val, '064b')\n",
    "left_rolled = format(rol_left(test_rol_left_val, 2), '064b')\n",
    "print(initial)\n",
    "print(left_rolled)\n",
    "print(format(2**64-1, '064b'))\n"
   ]
  },
  {
   "cell_type": "code",
   "execution_count": 291,
   "metadata": {},
   "outputs": [
    {
     "name": "stdout",
     "output_type": "stream",
     "text": [
      "x & 0001000100010001000100010001000100010001000100010001000100010001 = 0000000100000000000100000001000000000000000000010001000100010000\n",
      "x & 0010001000100010001000100010001000100010001000100010001000100010 = 0010000000000010001000100000000000100000000000100010001000100000\n",
      "x & 0100010001000100010001000100010001000100010001000100010001000100 = 0100010001000100000001000000000001000100000001000100010000000000\n",
      "x & 1000100010001000100010001000100010001000100010001000100010001000 = 1000100010000000000000001000000010000000000000000000100010000000\n"
     ]
    }
   ],
   "source": [
    "operand_a = format(1229782938247303441, \"064b\")\n",
    "operand_b = format(0o0210421042104210421042, \"064b\")\n",
    "operand_c = format(rol_left(1229782938247303441, 2), \"064b\")\n",
    "operand_d = format(rol_left(0o0210421042104210421042, 2), \"064b\")\n",
    "\n",
    "result_a = format(0x0100101000011110,\"064b\")\n",
    "result_b = format(0x2002220020022220,\"064b\")\n",
    "result_c = format(0x4444040044044400,\"064b\")\n",
    "result_d = format(0x8880008080000880,\"064b\")\n",
    "\n",
    "\n",
    "print(f'x & {operand_a} = {result_a}')\n",
    "print(f'x & {operand_b} = {result_b}')\n",
    "print(f'x & {operand_c} = {result_c}')\n",
    "print(f'x & {operand_d} = {result_d}')"
   ]
  },
  {
   "cell_type": "code",
   "execution_count": 292,
   "metadata": {},
   "outputs": [],
   "source": [
    "def reverse_and(operand_string, result_string):\n",
    "    x_arr = []\n",
    "\n",
    "    ZERO = '0'\n",
    "    QMARK = '?'\n",
    "    ONE = '1'\n",
    "\n",
    "    for operand, result in zip(operand_string, result_string):\n",
    "        if operand == ZERO:\n",
    "            x_arr.append(QMARK)\n",
    "        elif operand == ONE:\n",
    "            x_arr.append(result)\n",
    "\n",
    "    return ''.join(x_arr)"
   ]
  },
  {
   "cell_type": "code",
   "execution_count": 293,
   "metadata": {},
   "outputs": [
    {
     "name": "stdout",
     "output_type": "stream",
     "text": [
      "???0???1???0???0???1???0???1???0???0???0???0???1???1???1???1???0\n",
      "??1???0???0???1???1???1???0???0???1???0???0???1???1???1???1???0?\n",
      "?1???1???1???1???0???1???0???0???1???1???0???1???1???1???0???0??\n",
      "1???1???1???0???0???0???1???0???1???0???0???0???0???1???1???0???\n"
     ]
    }
   ],
   "source": [
    "sequences = []\n",
    "for operand_string, result_string in zip([operand_a, operand_b, operand_c, operand_d], [result_a, result_b, result_c, result_d]):\n",
    "    x_string = reverse_and(operand_string, result_string)\n",
    "    sequences.append(x_string)\n",
    "    print(x_string)"
   ]
  },
  {
   "cell_type": "code",
   "execution_count": 296,
   "metadata": {},
   "outputs": [
    {
     "name": "stdout",
     "output_type": "stream",
     "text": [
      "1110110111000110001101101001000011100100000001110111111110110000\n"
     ]
    }
   ],
   "source": [
    "x_string = []\n",
    "for values in zip(*sequences):\n",
    "    # print(values)\n",
    "    for v in values:\n",
    "        if v != '?':\n",
    "            x_string.append(v)\n",
    "\n",
    "x = ''.join(x_string)\n",
    "print(x)"
   ]
  },
  {
   "cell_type": "code",
   "execution_count": 297,
   "metadata": {},
   "outputs": [],
   "source": [
    "x = int(x, 2)"
   ]
  },
  {
   "cell_type": "code",
   "execution_count": 298,
   "metadata": {},
   "outputs": [],
   "source": [
    "def rol_right(some_num, n):\n",
    "    return (some_num >> n) | ((some_num & 2**n - 1) << 64 - n)"
   ]
  },
  {
   "cell_type": "code",
   "execution_count": 299,
   "metadata": {},
   "outputs": [
    {
     "name": "stdout",
     "output_type": "stream",
     "text": [
      "0000000000000000000000000000000000000000100010000001000000100001\n",
      "0000000000000000000000000000000000000000100010000001000000100001\n"
     ]
    }
   ],
   "source": [
    "test_rol_right_val = 0b100010000001000000100001\n",
    "initial = format(test_rol_right_val, '064b')\n",
    "right_rolled = format(rol_right(test_rol_right_val, 64), '064b')\n",
    "print(initial)\n",
    "print(right_rolled)\n"
   ]
  },
  {
   "cell_type": "code",
   "execution_count": 300,
   "metadata": {},
   "outputs": [],
   "source": [
    "x = rol_right(x, 10)\n",
    "x = x ^ 0o1275437152437512431354"
   ]
  },
  {
   "cell_type": "code",
   "execution_count": 303,
   "metadata": {},
   "outputs": [
    {
     "data": {
      "text/plain": [
       "'0100001101011000100101110010010101011001000100110011001100110011'"
      ]
     },
     "execution_count": 303,
     "metadata": {},
     "output_type": "execute_result"
    }
   ],
   "source": [
    "format(x, '064b')"
   ]
  },
  {
   "cell_type": "code",
   "execution_count": 304,
   "metadata": {},
   "outputs": [],
   "source": [
    "digits = []\n",
    "for i in range(16):\n",
    "    digit = (x & (2**4 - 1 << 4 * i)) >> 4 * i\n",
    "    digits.append(digit)"
   ]
  },
  {
   "cell_type": "code",
   "execution_count": 305,
   "metadata": {},
   "outputs": [
    {
     "name": "stdout",
     "output_type": "stream",
     "text": [
      "16\n"
     ]
    },
    {
     "data": {
      "text/plain": [
       "'CTF{3333319552798534}'"
      ]
     },
     "execution_count": 305,
     "metadata": {},
     "output_type": "execute_result"
    }
   ],
   "source": [
    "print(len(digits))\n",
    "f\"CTF{{{''.join([str(i) for i in digits])}}}\""
   ]
  },
  {
   "cell_type": "code",
   "execution_count": null,
   "metadata": {},
   "outputs": [],
   "source": []
  }
 ],
 "metadata": {
  "kernelspec": {
   "display_name": "Python 3.10.5 ('venv')",
   "language": "python",
   "name": "python3"
  },
  "language_info": {
   "codemirror_mode": {
    "name": "ipython",
    "version": 3
   },
   "file_extension": ".py",
   "mimetype": "text/x-python",
   "name": "python",
   "nbconvert_exporter": "python",
   "pygments_lexer": "ipython3",
   "version": "3.10.5"
  },
  "orig_nbformat": 4,
  "vscode": {
   "interpreter": {
    "hash": "bb1305222d396d07181eb6eaaad966b485c48a4527ea75b51b656b71c1b73bd3"
   }
  }
 },
 "nbformat": 4,
 "nbformat_minor": 2
}
